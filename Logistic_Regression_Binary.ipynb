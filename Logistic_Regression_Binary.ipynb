{
 "cells": [
  {
   "cell_type": "code",
   "execution_count": 1,
   "metadata": {},
   "outputs": [
    {
     "name": "stderr",
     "output_type": "stream",
     "text": [
      "C:\\Users\\ADIAX\\AppData\\Local\\Temp\\ipykernel_18500\\2690998774.py:2: DeprecationWarning: \n",
      "Pyarrow will become a required dependency of pandas in the next major release of pandas (pandas 3.0),\n",
      "(to allow more performant data types, such as the Arrow string type, and better interoperability with other libraries)\n",
      "but was not found to be installed on your system.\n",
      "If this would cause problems for you,\n",
      "please provide us feedback at https://github.com/pandas-dev/pandas/issues/54466\n",
      "        \n",
      "  import pandas as pd\n"
     ]
    }
   ],
   "source": [
    "import numpy as np\n",
    "import pandas as pd\n",
    "import matplotlib.pyplot as plt\n",
    "from tqdm import tqdm\n",
    "from sklearn.model_selection import train_test_split\n",
    "from sklearn.datasets import load_breast_cancer"
   ]
  },
  {
   "cell_type": "code",
   "execution_count": 2,
   "metadata": {},
   "outputs": [],
   "source": [
    "class LogisticRegression:\n",
    "    def __init__(self, learningRate, tolerance, regularization=False, lambda_param=0.1, maxIteration=50000):\n",
    "        self.learningRate = learningRate\n",
    "        self.tolerance = tolerance\n",
    "        self.regularization = regularization\n",
    "        self.lambda_param = lambda_param\n",
    "        self.maxIteration = maxIteration\n",
    "        \n",
    "    def datasetReader(self):\n",
    "        breast_cancer = load_breast_cancer()\n",
    "        X, y =  breast_cancer.data, breast_cancer.target\n",
    "        X_train, X_test, y_train, y_test = train_test_split(X, y, test_size=0.2, random_state=42)\n",
    "        return X_train, y_train, X_test, y_test\n",
    "    \n",
    "    def normalize_data(self, X):\n",
    "        # Normalizing each feature (column-wise)\n",
    "        X_normalized = (X - X.mean(axis=0)) / X.std(axis=0)\n",
    "        return X_normalized\n",
    "    \n",
    "    def normalize_train_test_data(self, X_train, X_test):\n",
    "        # Normalize training data\n",
    "        self.X_train = self.normalize_data(X_train)\n",
    "        # Normalize test data\n",
    "        self.X_test = self.normalize_data(X_test)\n",
    "    \n",
    "    def addX0(self, X):\n",
    "        return np.column_stack([np.ones([X.shape[0], 1]), X])\n",
    "    \n",
    "    def sigmoid(self, z):\n",
    "        return 1 / (1 + np.exp(-z))\n",
    "    \n",
    "    def decision_boundary(self, X, w):\n",
    "        # Plot decision boundary\n",
    "        if X.shape[1] == 2:\n",
    "            a = -w[0] / w[1]\n",
    "            b = -w[2] / w[1]\n",
    "            x1 = np.linspace(-5, 5, 100)\n",
    "            x2 = -(w[0] + w[1] * x1) / w[2]\n",
    "            plt.plot(x1, x2, label='Decision Boundary')\n",
    "            plt.scatter(X[:, 0], X[:, 1], c=self.y_train, cmap='viridis')\n",
    "            plt.xlabel('Feature 1')\n",
    "            plt.ylabel('Feature 2')\n",
    "            plt.legend()\n",
    "            plt.show()\n",
    "        else:\n",
    "            print(\"Cannot plot decision boundary for datasets with more than two features.\")\n",
    "        \n",
    "    def costFunction(self, X, y):\n",
    "        z = X.dot(self.w)\n",
    "        h = self.sigmoid(z)\n",
    "        epsilon = 1e-5  # to prevent log(0) case\n",
    "        regularization_term = 0\n",
    "        if self.regularization:\n",
    "            regularization_term = (self.lambda_param / (2 * X.shape[0])) * np.sum(self.w[1:]**2)  # Exclude bias term\n",
    "        cost = -np.mean(y * np.log(h + epsilon) + (1 - y) * np.log(1 - h + epsilon)) + regularization_term\n",
    "        return cost\n",
    "    \n",
    "    def gradient(self, X, y):\n",
    "        z = X.dot(self.w)\n",
    "        h = self.sigmoid(z)\n",
    "        grad = np.dot(X.T, (h - y)) / y.size\n",
    "        if self.regularization:\n",
    "            grad[1:] += (self.lambda_param / X.shape[0]) * self.w[1:]  # Exclude bias term\n",
    "        return grad\n",
    "    \n",
    "    def gradientDescent(self, X, y):\n",
    "        cost_sequences = []\n",
    "        last_cost = float('inf')\n",
    "        for i in tqdm(range(self.maxIteration)):\n",
    "            self.w = self.w - self.learningRate * self.gradient(X, y)\n",
    "            cur_cost = self.costFunction(X, y)\n",
    "            diff = last_cost - cur_cost\n",
    "            last_cost = cur_cost\n",
    "            cost_sequences.append(cur_cost)\n",
    "            if diff < self.tolerance:\n",
    "                print('The model stopped: Converged')\n",
    "                break\n",
    "                \n",
    "        self.plotCost(cost_sequences)\n",
    "        return \n",
    "    \n",
    "    def plotCost(self, error_sequences):\n",
    "        plt.plot(error_sequences)\n",
    "        plt.xlabel('Iteration')\n",
    "        plt.ylabel('Error')\n",
    "        plt.title('Cost Function')\n",
    "        plt.show()\n",
    "                        \n",
    "    def predict(self, X):\n",
    "        z = X.dot(self.w)\n",
    "        return np.round(self.sigmoid(z))\n",
    "    \n",
    "    def evaluate(self, y, y_hat):\n",
    "        accuracy = np.mean(y == y_hat)\n",
    "        precision = np.sum((y == 1) & (y_hat == 1)) / np.sum(y_hat)\n",
    "        recall = np.sum((y == 1) & (y_hat == 1)) / np.sum(y)\n",
    "        return accuracy, precision, recall\n",
    "    \n",
    "    def fit(self):\n",
    "        X_train, y_train, X_test, y_test = self.datasetReader()\n",
    "        self.normalize_train_test_data(X_train, X_test)  # Normalize train and test data\n",
    "        self.X_train = self.addX0(self.X_train)  # Add intercept term\n",
    "        self.X_test = self.addX0(self.X_test)    # Add intercept term\n",
    "        if self.regularization:\n",
    "            print('Solving using Gradient Descent Regularization: Enabled')\n",
    "        else:\n",
    "            print('Solving using Gradient Descent Regularization: Disabled')\n",
    "        self.w = np.random.randn(self.X_train.shape[1])  # Initialize weights randomly\n",
    "        self.gradientDescent(self.X_train, y_train)\n",
    "        # Prediction and Evaluation on Test Data\n",
    "        y_hat_test = self.predict(self.X_test)\n",
    "        print(\"\\nPredicted classes on test data:\", y_hat_test)\n",
    "        print(\"Actual classes on test data:\", y_test)\n",
    "        accuracy_test, precision_test, recall_test = self.evaluate(y_test, y_hat_test)\n",
    "        print('\\nEvaluation for test data:')\n",
    "        print('Accuracy:', accuracy_test)\n",
    "        print('Precision:', precision_test)\n",
    "        print('Recall:', recall_test)\n",
    "        self.decision_boundary(X_train, self.w)"
   ]
  },
  {
   "cell_type": "code",
   "execution_count": 3,
   "metadata": {},
   "outputs": [
    {
     "name": "stdout",
     "output_type": "stream",
     "text": [
      "Solving using Gradient Descent Regularization: Enabled\n"
     ]
    },
    {
     "name": "stderr",
     "output_type": "stream",
     "text": [
      "  0%|          | 0/50000 [00:00<?, ?it/s]"
     ]
    },
    {
     "name": "stderr",
     "output_type": "stream",
     "text": [
      "  4%|▍         | 2164/50000 [00:01<00:25, 1860.14it/s]\n"
     ]
    },
    {
     "name": "stdout",
     "output_type": "stream",
     "text": [
      "The model stopped: Converged\n"
     ]
    },
    {
     "data": {
      "image/png": "[encoded data removed]",
      "text/plain": [
       "<Figure size 640x480 with 1 Axes>"
      ]
     },
     "metadata": {},
     "output_type": "display_data"
    },
    {
     "name": "stdout",
     "output_type": "stream",
     "text": [
      "\n",
      "Predicted classes on test data: [1. 0. 0. 1. 1. 0. 0. 0. 1. 1. 1. 0. 1. 0. 1. 0. 1. 1. 1. 0. 1. 1. 0. 1.\n",
      " 1. 1. 1. 1. 1. 0. 1. 1. 1. 1. 1. 1. 0. 1. 0. 1. 1. 0. 1. 1. 1. 1. 1. 1.\n",
      " 1. 1. 0. 0. 1. 1. 1. 1. 1. 0. 0. 1. 1. 0. 0. 1. 1. 1. 0. 0. 1. 1. 0. 0.\n",
      " 1. 0. 1. 1. 1. 0. 1. 1. 0. 1. 0. 0. 0. 0. 0. 0. 1. 1. 1. 0. 1. 1. 1. 1.\n",
      " 0. 0. 1. 0. 0. 1. 0. 0. 1. 1. 1. 0. 1. 1. 0. 1. 1. 0.]\n",
      "Actual classes on test data: [1 0 0 1 1 0 0 0 1 1 1 0 1 0 1 0 1 1 1 0 0 1 0 1 1 1 1 1 1 0 1 1 1 1 1 1 0\n",
      " 1 0 1 1 0 1 1 1 1 1 1 1 1 0 0 1 1 1 1 1 0 0 1 1 0 0 1 1 1 0 0 1 1 0 0 1 0\n",
      " 1 1 1 0 1 1 0 1 0 0 0 0 0 0 1 1 1 1 1 1 1 1 0 0 1 0 0 1 0 0 1 1 1 0 1 1 0\n",
      " 1 1 0]\n",
      "\n",
      "Evaluation for test data:\n",
      "Accuracy: 0.9824561403508771\n",
      "Precision: 0.9859154929577465\n",
      "Recall: 0.9859154929577465\n",
      "Cannot plot decision boundary for datasets with more than two features.\n"
     ]
    }
   ],
   "source": [
    "model = LogisticRegression(learningRate=0.1, tolerance=1e-5, regularization=True, lambda_param=0.01)\n",
    "model.fit()"
   ]
  },
  {
   "cell_type": "code",
   "execution_count": 4,
   "metadata": {},
   "outputs": [
    {
     "name": "stdout",
     "output_type": "stream",
     "text": [
      "Solving using Gradient Descent Regularization: Disabled\n"
     ]
    },
    {
     "name": "stderr",
     "output_type": "stream",
     "text": [
      "  0%|          | 0/50000 [00:00<?, ?it/s]"
     ]
    },
    {
     "name": "stderr",
     "output_type": "stream",
     "text": [
      "  2%|▏         | 1090/50000 [00:00<00:22, 2176.85it/s]\n"
     ]
    },
    {
     "name": "stdout",
     "output_type": "stream",
     "text": [
      "The model stopped: Converged\n"
     ]
    },
    {
     "data": {
      "image/png": "[encoded data removed]",
      "text/plain": [
       "<Figure size 640x480 with 1 Axes>"
      ]
     },
     "metadata": {},
     "output_type": "display_data"
    },
    {
     "name": "stdout",
     "output_type": "stream",
     "text": [
      "\n",
      "Predicted classes on test data: [1. 0. 0. 1. 1. 0. 0. 0. 1. 1. 1. 0. 1. 0. 1. 0. 1. 1. 1. 0. 1. 1. 0. 1.\n",
      " 1. 1. 1. 1. 1. 0. 1. 1. 1. 1. 1. 1. 0. 1. 0. 1. 1. 0. 1. 1. 1. 1. 1. 1.\n",
      " 1. 1. 0. 0. 1. 1. 1. 1. 1. 0. 0. 1. 1. 0. 0. 1. 1. 1. 0. 0. 1. 1. 0. 0.\n",
      " 1. 0. 1. 1. 1. 1. 1. 1. 0. 1. 0. 0. 0. 0. 0. 0. 1. 1. 1. 1. 1. 1. 1. 1.\n",
      " 0. 0. 1. 0. 0. 1. 0. 0. 1. 1. 1. 0. 1. 1. 0. 1. 1. 0.]\n",
      "Actual classes on test data: [1 0 0 1 1 0 0 0 1 1 1 0 1 0 1 0 1 1 1 0 0 1 0 1 1 1 1 1 1 0 1 1 1 1 1 1 0\n",
      " 1 0 1 1 0 1 1 1 1 1 1 1 1 0 0 1 1 1 1 1 0 0 1 1 0 0 1 1 1 0 0 1 1 0 0 1 0\n",
      " 1 1 1 0 1 1 0 1 0 0 0 0 0 0 1 1 1 1 1 1 1 1 0 0 1 0 0 1 0 0 1 1 1 0 1 1 0\n",
      " 1 1 0]\n",
      "\n",
      "Evaluation for test data:\n",
      "Accuracy: 0.9824561403508771\n",
      "Precision: 0.9726027397260274\n",
      "Recall: 1.0\n",
      "Cannot plot decision boundary for datasets with more than two features.\n"
     ]
    }
   ],
   "source": [
    "model2 = LogisticRegression(learningRate=0.1, tolerance=1e-5, regularization=False, lambda_param=0.1)\n",
    "model2.fit()"
   ]
  }
 ],
 "metadata": {
  "kernelspec": {
   "display_name": ".logenv",
   "language": "python",
   "name": "python3"
  },
  "language_info": {
   "codemirror_mode": {
    "name": "ipython",
    "version": 3
   },
   "file_extension": ".py",
   "mimetype": "text/x-python",
   "name": "python",
   "nbconvert_exporter": "python",
   "pygments_lexer": "ipython3",
   "version": "3.12.2"
  }
 },
 "nbformat": 4,
 "nbformat_minor": 2
}
